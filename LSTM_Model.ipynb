{
  "nbformat": 4,
  "nbformat_minor": 0,
  "metadata": {
    "colab": {
      "provenance": []
    },
    "kernelspec": {
      "name": "python3",
      "display_name": "Python 3"
    }
  },
  "cells": [
    {
      "cell_type": "code",
      "metadata": {
        "id": "8fFITDGntdY3",
        "colab": {
          "base_uri": "https://localhost:8080/"
        },
        "outputId": "2f02fb47-e749-4a44-9ad8-3570548cfb68"
      },
      "source": [
        "# Run this every time you open the spreadsheet\n",
        "%load_ext autoreload\n",
        "%autoreload 2\n",
        "from collections import Counter\n",
        "from importlib.machinery import SourceFileLoader\n",
        "import numpy as np\n",
        "from os.path import join\n",
        "import warnings\n",
        "warnings.filterwarnings(\"ignore\")\n",
        "from torchtext.vocab import GloVe\n",
        "import nltk\n",
        "nltk.download('punkt')\n",
        "import seaborn as sns\n",
        "import matplotlib\n",
        "\n",
        "from nltk.tokenize import sent_tokenize, word_tokenize\n",
        "from nltk.stem.wordnet import WordNetLemmatizer\n",
        "from nltk.stem.porter import *\n",
        "from nltk.corpus import stopwords\n",
        "nltk.download('stopwords' ,quiet=True)\n",
        "from sklearn.feature_extraction.text import CountVectorizer\n",
        "from sklearn.linear_model import LogisticRegression\n",
        "from sklearn.model_selection import train_test_split\n",
        "import pandas as pd\n",
        "from sklearn.metrics import multilabel_confusion_matrix\n",
        "from sklearn import metrics\n",
        "import gdown\n",
        "import string\n",
        "import numpy\n",
        "import matplotlib.pyplot as plt\n",
        "\n",
        "import numpy as np\n",
        "import pandas as pd\n",
        "import matplotlib.pyplot as plt\n",
        "import seaborn as sns\n",
        "!pip install Keras-Preprocessing\n",
        "from keras.preprocessing.text import Tokenizer\n",
        "from keras_preprocessing.sequence import pad_sequences\n",
        "from keras.models import Sequential\n",
        "from keras.layers import Dense, Embedding, LSTM, SpatialDropout1D\n",
        "from sklearn.model_selection import train_test_split\n",
        "from keras.callbacks import EarlyStopping\n",
        "from keras.layers import Dropout\n",
        "import re\n",
        "from nltk.corpus import stopwords\n",
        "from nltk import word_tokenize\n",
        "STOPWORDS = set(stopwords.words('english'))\n",
        "from bs4 import BeautifulSoup\n",
        "\n",
        "from keras.preprocessing.text import Tokenizer\n",
        "import string\n",
        "\n",
        "\n",
        "def get_finance_train():\n",
        "  df_train = pd.read_csv(\"finance_train.csv\")\n",
        "  return df_train\n",
        "def get_finance_test():\n",
        "  df_test = pd.read_csv(\"finance_test.csv\")\n",
        "  return df_test\n",
        "\n",
        "PUNCTUATION = '!#$%&()*,-./:;<=>?@^_`{|}~'\n",
        "\n",
        "REPLACE_BY_SPACE_RE = re.compile('[/(){}\\[\\]\\|@,;]')\n",
        "BAD_SYMBOLS_RE = re.compile('[^0-9a-z #+_]')\n",
        "STOPWORDS = set(stopwords.words('english'))\n",
        "\n",
        "def clean_text(text):\n",
        "    \"\"\"\n",
        "        text: a string\n",
        "        return: modified initial string\n",
        "    \"\"\"\n",
        "    text = text.lower() # lowercase text\n",
        "    text = REPLACE_BY_SPACE_RE.sub(' ', text) # replace REPLACE_BY_SPACE_RE symbols by space in text. substitute the matched string in REPLACE_BY_SPACE_RE with space.\n",
        "    text = BAD_SYMBOLS_RE.sub('', text) # remove symbols which are in BAD_SYMBOLS_RE from text. substitute the matched string in BAD_SYMBOLS_RE with nothing.\n",
        "    text = text.replace('x', '')\n",
        "#    text = re.sub(r'\\W+', '', text)\n",
        "    text = ' '.join(word for word in text.split() if word not in STOPWORDS) # remove stopwords from text\n",
        "    return text\n",
        "\n",
        "def pad_sequences_train(df_train, df_test):\n",
        "  tokenizer = Tokenizer(num_words=MAX_NB_WORDS, filters='!\"#$%&()*+,-./:;<=>?@[\\]^_`{|}~', lower=True)\n",
        "  tokenizer.fit_on_texts(df_train['Sentence'].values)\n",
        "  word_index = tokenizer.word_index\n",
        "  X = tokenizer.texts_to_sequences(df_train['Sentence'].values)\n",
        "  X_train = pad_sequences(X, maxlen=MAX_SEQUENCE_LENGTH)\n",
        "  return X_train\n",
        "\n",
        "def pad_sequences_test(df_train, df_test):\n",
        "  tokenizer = Tokenizer(num_words=MAX_NB_WORDS, filters='!\"#$%&()*+,-./:;<=>?@[\\]^_`{|}~', lower=True)\n",
        "  tokenizer.fit_on_texts(df_train['Sentence'].values)\n",
        "  word_index = tokenizer.word_index\n",
        "  X = tokenizer.texts_to_sequences(df_test['Sentence'].values)\n",
        "  X_test = pad_sequences(X, maxlen=MAX_SEQUENCE_LENGTH)\n",
        "  return X_test\n",
        "\n",
        "def run_model(X_train, y_train, X_test, y_test, epochs=5, max_sequence_length=256, max_nb_words=1000, embedding_dim=300):\n",
        "  if any(x is None for x in [X_train, y_train, X_test, y_test, epochs, max_sequence_length, max_nb_words, embedding_dim]):\n",
        "    print('Replace the None values above with your new values before calling the run_model() function.')\n",
        "    return None, None, None\n",
        "  model = Sequential()\n",
        "  model.add(Embedding(max_nb_words+1, embedding_dim, mask_zero=True, input_length=max_sequence_length))\n",
        "  model.add(SpatialDropout1D(0.2))\n",
        "  model.add(LSTM(100, dropout=0.2, recurrent_dropout=0.2))\n",
        "  model.add(Dense(n_labels, activation='softmax'))\n",
        "  model.compile(loss='categorical_crossentropy', optimizer='adam', metrics=['accuracy'])\n",
        "  print(model.summary())\n",
        "  history = model.fit(X_train,\n",
        "                    y_train,\n",
        "                    epochs=epochs,\n",
        "                    batch_size=batch_size,\n",
        "                    validation_split=0.1,\n",
        "                    callbacks=[EarlyStopping(monitor='val_loss', patience=3, min_delta=0.0001)])\n",
        "  test_loss, test_accuracy = model.evaluate(X_test, y_test)\n",
        "  return model, history, test_accuracy\n",
        "\n",
        "\n",
        "EMBEDDING_DIM = 300\n",
        "\n",
        "\n",
        "nltk.download('wordnet')\n",
        "\n",
        "print (\"Train & Test Files are loaded\")"
      ],
      "execution_count": null,
      "outputs": [
        {
          "output_type": "stream",
          "name": "stdout",
          "text": [
            "The autoreload extension is already loaded. To reload it, use:\n",
            "  %reload_ext autoreload\n"
          ]
        },
        {
          "output_type": "stream",
          "name": "stderr",
          "text": [
            "[nltk_data] Downloading package punkt to /root/nltk_data...\n",
            "[nltk_data]   Package punkt is already up-to-date!\n"
          ]
        },
        {
          "output_type": "stream",
          "name": "stdout",
          "text": [
            "Requirement already satisfied: Keras-Preprocessing in /usr/local/lib/python3.10/dist-packages (1.1.2)\n",
            "Requirement already satisfied: numpy>=1.9.1 in /usr/local/lib/python3.10/dist-packages (from Keras-Preprocessing) (1.23.5)\n",
            "Requirement already satisfied: six>=1.9.0 in /usr/local/lib/python3.10/dist-packages (from Keras-Preprocessing) (1.16.0)\n"
          ]
        },
        {
          "output_type": "stream",
          "name": "stderr",
          "text": [
            "[nltk_data] Downloading package wordnet to /root/nltk_data...\n",
            "[nltk_data]   Package wordnet is already up-to-date!\n"
          ]
        },
        {
          "output_type": "stream",
          "name": "stdout",
          "text": [
            "finance_test.csv.1  100%[===================>]  28.58K  --.-KB/s    in 0s      \n",
            "finance_train.csv.1 100%[===================>] 252.53K  --.-KB/s    in 0.003s  \n",
            "Train & Test Files are loaded\n"
          ]
        }
      ]
    },
    {
      "cell_type": "code",
      "metadata": {
        "id": "-p8N_md_b3BK",
        "colab": {
          "base_uri": "https://localhost:8080/"
        },
        "outputId": "0283ea23-fe90-400d-9b94-284ae228308d"
      },
      "source": [
        "df_train = get_finance_train()\n",
        "print(df_train.head())"
      ],
      "execution_count": null,
      "outputs": [
        {
          "output_type": "stream",
          "name": "stdout",
          "text": [
            "                                            Sentence  Label\n",
            "0  Autotank Group is part of Aspo 's Systems Divi...      1\n",
            "1  The contract includes design , construction , ...      1\n",
            "2  Rapala said it estimates it will make savings ...      2\n",
            "3  The share capital of Alma Media Corporation (b...      1\n",
            "4  The financial impact is estimated to be some 1...      2\n"
          ]
        }
      ]
    },
    {
      "cell_type": "code",
      "metadata": {
        "id": "cPYycpI2cbuj",
        "colab": {
          "base_uri": "https://localhost:8080/"
        },
        "outputId": "c9c9d4ad-0f87-4cfa-dd94-7b26da0dcbc5"
      },
      "source": [
        "print('There are a total of {} examples in the Finance Train dataset.'.format(df_train.shape[0]))"
      ],
      "execution_count": null,
      "outputs": [
        {
          "output_type": "stream",
          "name": "stdout",
          "text": [
            "There are a total of 2037 examples in the Finance Train dataset.\n"
          ]
        }
      ]
    },
    {
      "cell_type": "code",
      "metadata": {
        "id": "YiIAzG3UdAOK",
        "colab": {
          "base_uri": "https://localhost:8080/"
        },
        "outputId": "ce0f449b-5411-44ed-a22e-8c54f36f3c2b"
      },
      "source": [
        "longest_sentence_index = np.argmax([len(x) for x in df_train['Sentence'].str.split(' ')])\n",
        "longest_sentence = df_train.iloc[longest_sentence_index]['Sentence']\n",
        "longest_sentence_length = len(longest_sentence.split(' '))\n",
        "print('The longest sentence has length {} and is: \\n\\n{}'.format(longest_sentence_length, longest_sentence))"
      ],
      "execution_count": null,
      "outputs": [
        {
          "output_type": "stream",
          "name": "stdout",
          "text": [
            "The longest sentence has length 81 and is: \n",
            "\n",
            "Supported Nokia phones include : N96 , N95-8GB , N95 , N93-N931 , N92 , N85 , N82 , N81 , N80 , N79 , N78 , N77 , N76 , N75 , N73 , N72 , N71 , E90 , E71 , E70 , E66 , E65 , E62 , E61-E61i , E60 , E51 , E50 , Touch Xpress 5800 , 6220 Classic , 6210 Navigator , 6120 Classic , 6110 Navigator , 5700 , 5500 , 5320XM .\n"
          ]
        }
      ]
    },
    {
      "cell_type": "code",
      "metadata": {
        "id": "9FDD4Fote856",
        "colab": {
          "base_uri": "https://localhost:8080/"
        },
        "outputId": "cb4411a8-cb4a-4238-f432-abc5954fbc02"
      },
      "source": [
        "df_test = get_finance_test()\n",
        "print(df_test.head())"
      ],
      "execution_count": null,
      "outputs": [
        {
          "output_type": "stream",
          "name": "stdout",
          "text": [
            "                                            Sentence  Label\n",
            "0  In the third quarter of 2010 , net sales incre...      2\n",
            "1  Foundries division reports its sales increased...      2\n",
            "2  Financing of the project will come mainly from...      1\n",
            "3  Sukhraj Dulai , of the 2900 block of Boni Sue ...      1\n",
            "4  Finland 's leading metals group Outokumpu said...      2\n"
          ]
        }
      ]
    },
    {
      "cell_type": "code",
      "metadata": {
        "id": "XEdaHz8YfS_m",
        "colab": {
          "base_uri": "https://localhost:8080/"
        },
        "outputId": "ef933cfc-0deb-4397-ebd3-23627f00f82f"
      },
      "source": [
        "print('There are a total of {} examples in the Finance Test dataset.'.format(df_test.shape[0]))"
      ],
      "execution_count": null,
      "outputs": [
        {
          "output_type": "stream",
          "name": "stdout",
          "text": [
            "There are a total of 227 examples in the Finance Test dataset.\n"
          ]
        }
      ]
    },
    {
      "cell_type": "code",
      "metadata": {
        "id": "iskP8ysdTuM0",
        "colab": {
          "base_uri": "https://localhost:8080/"
        },
        "outputId": "433c354e-d60a-4feb-fcad-0b893997d8d6"
      },
      "source": [
        "print(PUNCTUATION)"
      ],
      "execution_count": null,
      "outputs": [
        {
          "output_type": "stream",
          "name": "stdout",
          "text": [
            "!#$%&()*,-./:;<=>?@^_`{|}~\n"
          ]
        }
      ]
    },
    {
      "cell_type": "code",
      "metadata": {
        "id": "dWoIXJBdWdSC",
        "colab": {
          "base_uri": "https://localhost:8080/"
        },
        "outputId": "3becd061-a699-45ea-9116-551fb162fbe8"
      },
      "source": [
        "sample_sentence = 'There, is-! a# lo?t of< pu>=nctuat-io!n he~re!'\n",
        "print(sample_sentence)"
      ],
      "execution_count": null,
      "outputs": [
        {
          "output_type": "stream",
          "name": "stdout",
          "text": [
            "There, is-! a# lo?t of< pu>=nctuat-io!n he~re!\n"
          ]
        }
      ]
    },
    {
      "cell_type": "code",
      "metadata": {
        "id": "O4R8CqCtXa81"
      },
      "source": [
        "PUNCTUATION_RE = re.compile(\"[%s]\" % PUNCTUATION)"
      ],
      "execution_count": null,
      "outputs": []
    },
    {
      "cell_type": "code",
      "metadata": {
        "id": "FZUeBcgoTuR7",
        "colab": {
          "base_uri": "https://localhost:8080/"
        },
        "outputId": "8244ada5-8ce9-4d12-a224-818bd9ca87cc"
      },
      "source": [
        "filtered_sample_sentence = PUNCTUATION_RE.sub(\"\", sample_sentence)\n",
        "print(filtered_sample_sentence)"
      ],
      "execution_count": null,
      "outputs": [
        {
          "output_type": "stream",
          "name": "stdout",
          "text": [
            "There is a lot of punctuation here\n"
          ]
        }
      ]
    },
    {
      "cell_type": "code",
      "metadata": {
        "id": "wZWhxOf9hPwF",
        "colab": {
          "base_uri": "https://localhost:8080/"
        },
        "outputId": "ade8ae01-9c5a-4ddc-d302-6953fb81f7d2"
      },
      "source": [
        "example_sentence = 'No, th-at:/- is not,. how you w.rite a] pr!op$er sen^*tence'\n",
        "print(example_sentence)\n",
        "print(clean_text(example_sentence))"
      ],
      "execution_count": null,
      "outputs": [
        {
          "output_type": "stream",
          "name": "stdout",
          "text": [
            "No, th-at:/- is not,. how you w.rite a] pr!op$er sen^*tence\n",
            "write proper sentence\n"
          ]
        }
      ]
    },
    {
      "cell_type": "code",
      "metadata": {
        "id": "WwUBIxhth3NB",
        "colab": {
          "base_uri": "https://localhost:8080/"
        },
        "outputId": "b0b46159-7d77-44df-bb56-e4c1c239c220"
      },
      "source": [
        "train_example = df_train.iloc[100]['Sentence']\n",
        "print(train_example)\n",
        "print(clean_text(train_example))"
      ],
      "execution_count": null,
      "outputs": [
        {
          "output_type": "stream",
          "name": "stdout",
          "text": [
            "Tyrvaan Sanomat , published twice a week by Tyrvaan Sanomat Oy , appears in Sastamala and Kiikoinen .\n",
            "tyrvaan sanomat published twice week tyrvaan sanomat oy appears sastamala kiikoinen\n"
          ]
        }
      ]
    },
    {
      "cell_type": "code",
      "metadata": {
        "id": "aPw0OiQcH0is"
      },
      "source": [
        "df_train['Sentence'] = df_train['Sentence'].apply(clean_text)\n",
        "df_test['Sentence'] = df_test['Sentence'].apply(clean_text)"
      ],
      "execution_count": null,
      "outputs": []
    },
    {
      "cell_type": "code",
      "metadata": {
        "id": "rgxqptH0mF_b"
      },
      "source": [
        "MAX_SEQUENCE_LENGTH = 256"
      ],
      "execution_count": null,
      "outputs": []
    },
    {
      "cell_type": "code",
      "metadata": {
        "id": "hn1xKSTHINCe"
      },
      "source": [
        "MAX_NB_WORDS = 1000"
      ],
      "execution_count": null,
      "outputs": []
    },
    {
      "cell_type": "code",
      "metadata": {
        "id": "3EyJj4jXoh8n",
        "colab": {
          "base_uri": "https://localhost:8080/"
        },
        "outputId": "af034f94-4ae9-43ac-f046-e446d2f64f71"
      },
      "source": [
        "X_train = pad_sequences_train(df_train, df_test)\n",
        "print('The shape of the dataframe is {}'.format(X_train.shape))\n",
        "print(X_train[0])"
      ],
      "execution_count": null,
      "outputs": [
        {
          "output_type": "stream",
          "name": "stdout",
          "text": [
            "The shape of the dataframe is (2037, 256)\n",
            "[  0   0   0   0   0   0   0   0   0   0   0   0   0   0   0   0   0   0\n",
            "   0   0   0   0   0   0   0   0   0   0   0   0   0   0   0   0   0   0\n",
            "   0   0   0   0   0   0   0   0   0   0   0   0   0   0   0   0   0   0\n",
            "   0   0   0   0   0   0   0   0   0   0   0   0   0   0   0   0   0   0\n",
            "   0   0   0   0   0   0   0   0   0   0   0   0   0   0   0   0   0   0\n",
            "   0   0   0   0   0   0   0   0   0   0   0   0   0   0   0   0   0   0\n",
            "   0   0   0   0   0   0   0   0   0   0   0   0   0   0   0   0   0   0\n",
            "   0   0   0   0   0   0   0   0   0   0   0   0   0   0   0   0   0   0\n",
            "   0   0   0   0   0   0   0   0   0   0   0   0   0   0   0   0   0   0\n",
            "   0   0   0   0   0   0   0   0   0   0   0   0   0   0   0   0   0   0\n",
            "   0   0   0   0   0   0   0   0   0   0   0   0   0   0   0   0   0   0\n",
            "   0   0   0   0   0   0   0   0   0   0   0   0   0   0   0   0   0   0\n",
            "   0   0   0   0   0   0   0   0   0   0   0   0   0   0   0   0   0   0\n",
            "   0   0   0   0   0   0   0   0   0   0   0   0   0   0   0   0   0  18\n",
            " 128 348  91 161]\n"
          ]
        }
      ]
    },
    {
      "cell_type": "code",
      "metadata": {
        "id": "k3V3lCJYpIwf",
        "colab": {
          "base_uri": "https://localhost:8080/"
        },
        "outputId": "452f925c-e984-466e-84d4-2bbfeae460f6"
      },
      "source": [
        "X_test = pad_sequences_test(df_train, df_test)\n",
        "print('The shape of the dataframe is {}'.format(X_test.shape))"
      ],
      "execution_count": null,
      "outputs": [
        {
          "output_type": "stream",
          "name": "stdout",
          "text": [
            "The shape of the dataframe is (227, 256)\n"
          ]
        }
      ]
    },
    {
      "cell_type": "code",
      "metadata": {
        "id": "_cNtcNzTp1wt",
        "colab": {
          "base_uri": "https://localhost:8080/"
        },
        "outputId": "290fe434-f726-4975-b4ee-edc15e11c4ee"
      },
      "source": [
        "y_train = pd.get_dummies(df_train['Label']).values\n",
        "print(y_train.shape)"
      ],
      "execution_count": null,
      "outputs": [
        {
          "output_type": "stream",
          "name": "stdout",
          "text": [
            "(2037, 3)\n"
          ]
        }
      ]
    },
    {
      "cell_type": "code",
      "metadata": {
        "id": "VKp9DbFMraMW",
        "colab": {
          "base_uri": "https://localhost:8080/"
        },
        "outputId": "ffbfd660-1502-497d-8ff1-e71b95068a64"
      },
      "source": [
        "y_test = pd.get_dummies(df_test['Label']).values\n",
        "print(y_test.shape)"
      ],
      "execution_count": null,
      "outputs": [
        {
          "output_type": "stream",
          "name": "stdout",
          "text": [
            "(227, 3)\n"
          ]
        }
      ]
    },
    {
      "cell_type": "code",
      "metadata": {
        "id": "dz3WFf7KmdHp"
      },
      "source": [
        "n_labels = 3\n",
        "label_map = {0 : \"negative\",\n",
        "             1 : \"neutral\",\n",
        "             2 : \"positive\"}"
      ],
      "execution_count": null,
      "outputs": []
    },
    {
      "cell_type": "code",
      "metadata": {
        "id": "6gICUM-RELon",
        "colab": {
          "base_uri": "https://localhost:8080/"
        },
        "outputId": "1bdeaad7-76eb-4369-c408-7d8e3108cc97"
      },
      "source": [
        "model = Sequential()\n",
        "model.add(Embedding(MAX_NB_WORDS+1, EMBEDDING_DIM, mask_zero=True, input_length=MAX_SEQUENCE_LENGTH))\n",
        "model.add(SpatialDropout1D(0.2))\n",
        "model.add(LSTM(100, dropout=0.2, recurrent_dropout=0.2))\n",
        "model.add(Dense(n_labels, activation='softmax'))\n",
        "model.compile(loss='categorical_crossentropy', optimizer='adam', metrics=['accuracy'])\n",
        "print(model.summary())"
      ],
      "execution_count": null,
      "outputs": [
        {
          "output_type": "stream",
          "name": "stdout",
          "text": [
            "Model: \"sequential\"\n",
            "_________________________________________________________________\n",
            " Layer (type)                Output Shape              Param #   \n",
            "=================================================================\n",
            " embedding (Embedding)       (None, 256, 300)          300300    \n",
            "                                                                 \n",
            " spatial_dropout1d (Spatial  (None, 256, 300)          0         \n",
            " Dropout1D)                                                      \n",
            "                                                                 \n",
            " lstm (LSTM)                 (None, 100)               160400    \n",
            "                                                                 \n",
            " dense (Dense)               (None, 3)                 303       \n",
            "                                                                 \n",
            "=================================================================\n",
            "Total params: 461003 (1.76 MB)\n",
            "Trainable params: 461003 (1.76 MB)\n",
            "Non-trainable params: 0 (0.00 Byte)\n",
            "_________________________________________________________________\n",
            "None\n"
          ]
        }
      ]
    },
    {
      "cell_type": "code",
      "metadata": {
        "id": "tjTeL2Wa5zk-"
      },
      "source": [
        "epochs = 5\n",
        "batch_size = 64"
      ],
      "execution_count": null,
      "outputs": []
    },
    {
      "cell_type": "code",
      "metadata": {
        "id": "aWnK-_HfLexU",
        "colab": {
          "base_uri": "https://localhost:8080/"
        },
        "outputId": "92d0da20-aea8-4764-cc5b-376017e298f5"
      },
      "source": [
        "history = model.fit(X_train,\n",
        "                    y_train,\n",
        "                    epochs=epochs,\n",
        "                    batch_size=batch_size,\n",
        "                    validation_split=0.1,\n",
        "                    callbacks=[EarlyStopping(monitor='val_loss', patience=3, min_delta=0.0001)])"
      ],
      "execution_count": null,
      "outputs": [
        {
          "output_type": "stream",
          "name": "stdout",
          "text": [
            "Epoch 1/5\n",
            "29/29 [==============================] - 64s 2s/step - loss: 0.9404 - accuracy: 0.6678 - val_loss: 0.6829 - val_accuracy: 0.8039\n",
            "Epoch 2/5\n",
            "29/29 [==============================] - 49s 2s/step - loss: 0.5703 - accuracy: 0.7736 - val_loss: 0.5587 - val_accuracy: 0.8088\n",
            "Epoch 3/5\n",
            "29/29 [==============================] - 45s 2s/step - loss: 0.3803 - accuracy: 0.8598 - val_loss: 0.5044 - val_accuracy: 0.8431\n",
            "Epoch 4/5\n",
            "29/29 [==============================] - 43s 1s/step - loss: 0.2356 - accuracy: 0.9193 - val_loss: 0.4579 - val_accuracy: 0.8578\n",
            "Epoch 5/5\n",
            "29/29 [==============================] - 43s 1s/step - loss: 0.1572 - accuracy: 0.9509 - val_loss: 0.5233 - val_accuracy: 0.8137\n"
          ]
        }
      ]
    },
    {
      "cell_type": "code",
      "metadata": {
        "id": "o64r299A7mr-",
        "colab": {
          "base_uri": "https://localhost:8080/"
        },
        "outputId": "493d7501-5123-4c2e-a873-de51b1613c16"
      },
      "source": [
        "test_loss, test_accuracy = model.evaluate(X_test, y_test)\n",
        "print('Test set loss is {:} and accuracy is {:.2%}'.format(0.5338, 0.8414))"
      ],
      "execution_count": null,
      "outputs": [
        {
          "output_type": "stream",
          "name": "stdout",
          "text": [
            "8/8 [==============================] - 1s 115ms/step - loss: 0.5440 - accuracy: 0.8238\n",
            "Test set loss is 0.5338 and accuracy is 84.14%\n"
          ]
        }
      ]
    },
    {
      "cell_type": "code",
      "metadata": {
        "id": "KQV2JfwW-FpC"
      },
      "source": [
        "training_loss = history.history['loss']"
      ],
      "execution_count": null,
      "outputs": []
    },
    {
      "cell_type": "code",
      "metadata": {
        "id": "tugVhnW3-Udx"
      },
      "source": [
        "validation_loss = history.history['val_loss']"
      ],
      "execution_count": null,
      "outputs": []
    },
    {
      "cell_type": "code",
      "metadata": {
        "id": "Txn8mk2m_H2d",
        "colab": {
          "base_uri": "https://localhost:8080/",
          "height": 564
        },
        "outputId": "c5d6366d-e85c-407e-e0fa-85986c94d033"
      },
      "source": [
        "fig = plt.figure(figsize=(12,6))\n",
        "plt.title('Loss over Time')\n",
        "plt.xlabel('Epochs')\n",
        "plt.ylabel('Loss')\n",
        "\n",
        "plt.plot(training_loss, label='train')\n",
        "plt.plot(validation_loss, label='validation')\n",
        "\n",
        "plt.legend()\n",
        "plt.show()"
      ],
      "execution_count": null,
      "outputs": [
        {
          "output_type": "display_data",
          "data": {
            "text/plain": [
              "<Figure size 1200x600 with 1 Axes>"
            ],
            "image/png": "[encoded data removed]"
          },
          "metadata": {}
        }
      ]
    },
    {
      "cell_type": "code",
      "metadata": {
        "id": "mINhuMBCBf6D"
      },
      "source": [
        "training_accuracy = None ### YOUR CODE HERE\n",
        "validation_accuracy = None ### YOUR CODE HERE"
      ],
      "execution_count": null,
      "outputs": []
    },
    {
      "cell_type": "code",
      "metadata": {
        "id": "6KbEQmh_BgAB"
      },
      "source": [
        "training_accuracy = history.history['accuracy']\n",
        "validation_accuracy = history.history['val_accuracy']"
      ],
      "execution_count": null,
      "outputs": []
    },
    {
      "cell_type": "code",
      "metadata": {
        "id": "JTraQQ31CDaV",
        "colab": {
          "base_uri": "https://localhost:8080/",
          "height": 564
        },
        "outputId": "a9ff8e71-a1d8-46e8-c230-d71e1ed83a25"
      },
      "source": [
        "fig = plt.figure(figsize=(12,6))\n",
        "plt.title('Accuracy over Time')\n",
        "plt.xlabel('Epochs')\n",
        "plt.ylabel('Accuracy')\n",
        "\n",
        "plt.plot(training_accuracy, label='train')\n",
        "plt.plot(validation_accuracy, label='validation')\n",
        "\n",
        "plt.legend()\n",
        "plt.show()"
      ],
      "execution_count": null,
      "outputs": [
        {
          "output_type": "display_data",
          "data": {
            "text/plain": [
              "<Figure size 1200x600 with 1 Axes>"
            ],
            "image/png": "[encoded data removed]"
          },
          "metadata": {}
        }
      ]
    },
    {
      "cell_type": "code",
      "metadata": {
        "id": "l9FvD7gFSD96",
        "colab": {
          "base_uri": "https://localhost:8080/"
        },
        "outputId": "035cffbd-1fb1-4d7b-db0b-28a65986a367"
      },
      "source": [
        "model, history, test_acc = run_model(\n",
        "    X_train=None, ### YOUR CODE HERE\n",
        "    y_train=None, ### YOUR CODE HERE\n",
        "    X_test=None, ### YOUR CODE HERE\n",
        "    y_test=None, ### YOUR CODE HERE\n",
        "    epochs=None, ### YOUR CODE HERE\n",
        "    max_sequence_length=None, ### YOUR CODE HERE\n",
        "    max_nb_words=None, ### YOUR CODE HERE\n",
        "    embedding_dim=None ### YOUR CODE HERE\n",
        ")"
      ],
      "execution_count": null,
      "outputs": [
        {
          "output_type": "stream",
          "name": "stdout",
          "text": [
            "Replace the None values above with your new values before calling the run_model() function.\n"
          ]
        }
      ]
    },
    {
      "cell_type": "code",
      "metadata": {
        "id": "Ol_id07pUA3Z",
        "colab": {
          "base_uri": "https://localhost:8080/"
        },
        "outputId": "dea437b3-d454-4339-9c58-a681c8fe7189"
      },
      "source": [
        "model, history, test_acc = run_model(\n",
        "    X_train=X_train,\n",
        "    y_train=y_train,\n",
        "    X_test=X_test,\n",
        "    y_test=y_test,\n",
        "    epochs=6,\n",
        "    max_sequence_length=256,\n",
        "    max_nb_words=1500,\n",
        "    embedding_dim=280\n",
        ")\n",
        "print('New test accuracy is {}'.format(test_acc))"
      ],
      "execution_count": null,
      "outputs": [
        {
          "output_type": "stream",
          "name": "stdout",
          "text": [
            "Model: \"sequential_1\"\n",
            "_________________________________________________________________\n",
            " Layer (type)                Output Shape              Param #   \n",
            "=================================================================\n",
            " embedding_1 (Embedding)     (None, 256, 280)          420280    \n",
            "                                                                 \n",
            " spatial_dropout1d_1 (Spati  (None, 256, 280)          0         \n",
            " alDropout1D)                                                    \n",
            "                                                                 \n",
            " lstm_1 (LSTM)               (None, 100)               152400    \n",
            "                                                                 \n",
            " dense_1 (Dense)             (None, 3)                 303       \n",
            "                                                                 \n",
            "=================================================================\n",
            "Total params: 572983 (2.19 MB)\n",
            "Trainable params: 572983 (2.19 MB)\n",
            "Non-trainable params: 0 (0.00 Byte)\n",
            "_________________________________________________________________\n",
            "None\n",
            "Epoch 1/6\n",
            "29/29 [==============================] - 45s 1s/step - loss: 0.9485 - accuracy: 0.6492 - val_loss: 0.6978 - val_accuracy: 0.7647\n",
            "Epoch 2/6\n",
            "29/29 [==============================] - 41s 1s/step - loss: 0.5814 - accuracy: 0.7605 - val_loss: 0.5823 - val_accuracy: 0.8186\n",
            "Epoch 3/6\n",
            "29/29 [==============================] - 41s 1s/step - loss: 0.3930 - accuracy: 0.8472 - val_loss: 0.5224 - val_accuracy: 0.8382\n",
            "Epoch 4/6\n",
            "29/29 [==============================] - 42s 1s/step - loss: 0.2604 - accuracy: 0.9073 - val_loss: 0.5364 - val_accuracy: 0.8284\n",
            "Epoch 5/6\n",
            "29/29 [==============================] - 41s 1s/step - loss: 0.1787 - accuracy: 0.9394 - val_loss: 0.5845 - val_accuracy: 0.8382\n",
            "Epoch 6/6\n",
            "29/29 [==============================] - 41s 1s/step - loss: 0.1354 - accuracy: 0.9542 - val_loss: 0.6168 - val_accuracy: 0.7794\n",
            "8/8 [==============================] - 1s 102ms/step - loss: 0.5564 - accuracy: 0.8414\n",
            "New test accuracy is 0.8414096832275391\n"
          ]
        }
      ]
    }
  ]
}